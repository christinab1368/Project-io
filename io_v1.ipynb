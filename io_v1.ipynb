{
 "cells": [
  {
   "cell_type": "markdown",
   "id": "eb9d1406",
   "metadata": {},
   "source": [
    "# Project IO"
   ]
  },
  {
   "cell_type": "markdown",
   "id": "d34a1159",
   "metadata": {},
   "source": [
    "# MDF data pulls"
   ]
  },
  {
   "cell_type": "code",
   "execution_count": 1,
   "id": "997d5d19",
   "metadata": {},
   "outputs": [
    {
     "data": {
      "text/plain": [
       "'1.7.25'"
      ]
     },
     "execution_count": 1,
     "metadata": {},
     "output_type": "execute_result"
    }
   ],
   "source": [
    "import maad\n",
    "maad.__version__"
   ]
  },
  {
   "cell_type": "code",
   "execution_count": 2,
   "id": "7ac5629a",
   "metadata": {},
   "outputs": [
    {
     "name": "stderr",
     "output_type": "stream",
     "text": [
      "fatal: destination path 'golden_fleece' already exists and is not an empty directory.\n"
     ]
    }
   ],
   "source": [
    "!git clone https://github.com/intel-sandbox/golden_fleece.git golden_fleece"
   ]
  },
  {
   "cell_type": "code",
   "execution_count": 3,
   "id": "85120be5",
   "metadata": {},
   "outputs": [],
   "source": [
    "import golden_fleece as gf"
   ]
  },
  {
   "cell_type": "code",
   "execution_count": 4,
   "id": "8f3d578e",
   "metadata": {},
   "outputs": [],
   "source": [
    "import pandas as pd"
   ]
  },
  {
   "cell_type": "code",
   "execution_count": 5,
   "id": "ec918a58",
   "metadata": {},
   "outputs": [],
   "source": [
    "r = pd.read_pickle('rebates_nov2_5Y')"
   ]
  },
  {
   "cell_type": "code",
   "execution_count": 6,
   "id": "80dd8390",
   "metadata": {},
   "outputs": [],
   "source": [
    "r = maad.csar_cleanup(r)"
   ]
  },
  {
   "cell_type": "code",
   "execution_count": 7,
   "id": "8dbe63d9",
   "metadata": {},
   "outputs": [
    {
     "data": {
      "text/plain": [
       "(619349, 62)"
      ]
     },
     "execution_count": 7,
     "metadata": {},
     "output_type": "execute_result"
    }
   ],
   "source": [
    "r.shape"
   ]
  },
  {
   "cell_type": "code",
   "execution_count": 8,
   "id": "3cb317fb",
   "metadata": {},
   "outputs": [],
   "source": [
    "ix = r.CUSTOMER.dropna()[r.CUSTOMER.dropna().str.contains('hew', case = False)].index\n",
    "#r.loc[ix]"
   ]
  },
  {
   "cell_type": "code",
   "execution_count": 9,
   "id": "e0672e4a",
   "metadata": {},
   "outputs": [
    {
     "data": {
      "text/plain": [
       "array([250628., 719301., 250627., ..., 658498., 658509., 206646.])"
      ]
     },
     "execution_count": 9,
     "metadata": {},
     "output_type": "execute_result"
    }
   ],
   "source": [
    "r.loc[ix].DEAL_ID.dropna().unique()"
   ]
  },
  {
   "cell_type": "code",
   "execution_count": 10,
   "id": "816c5c6e",
   "metadata": {},
   "outputs": [],
   "source": [
    "dids = [int(x) for x in list(r.loc[ix].DEAL_ID.dropna().unique())]"
   ]
  },
  {
   "cell_type": "code",
   "execution_count": 11,
   "id": "61df7237",
   "metadata": {},
   "outputs": [
    {
     "data": {
      "text/plain": [
       "1902"
      ]
     },
     "execution_count": 11,
     "metadata": {},
     "output_type": "execute_result"
    }
   ],
   "source": [
    "len(dids)"
   ]
  },
  {
   "cell_type": "code",
   "execution_count": 12,
   "id": "99579047",
   "metadata": {},
   "outputs": [],
   "source": [
    "sql = '''\n",
    "select DISTINCT  deal.[deal id]\n",
    " ,deal.[Tracker Number]\n",
    " ,cust.cust_nm as customer\n",
    " ,cast(deal.[deal start date] as datetime) as deal_start_date\n",
    " ,deal.[deal end date]\n",
    " ,deal.[deal stage]\n",
    " ,deal.[deal type]\n",
    " ,deal.geo\n",
    " ,deal.[market segment]\n",
    " ,deal.[End CustomerRetailer] as END_CUSTOMER\n",
    " ,deal.agreement\n",
    " ,deal.[Ceiling Volume]\n",
    " ,deal.[contract#] as contract\n",
    " ,deal.[deal description]\n",
    " ,deal.MSP\n",
    ", deal.[Division Approver]\n",
    " ,deal.[Last Active Date]\n",
    ", deal.[Server Deal Type]\n",
    " ,deal.[Division Approved Date]\n",
    " ,deal.[Division First Approved Stage Date]\n",
    ",deal.[AdditiveStandalone]\n",
    ",deal.[Expire Deal Flag]\n",
    ",deal.[Overarching Maximum Volume]\n",
    ",deal.[deal type]\n",
    ",deal.[rebate type]\n",
    ",deal.[Rebate Payment 609 Credit Amt]\n",
    ",deal.[Rebate Payment 609 Debit Amt]\n",
    ",deal.[Rebate Payment 609 Credit Volume]\n",
    ",deal.[Rebate Payment 609 Debit Volume]\n",
    "\n",
    " \n",
    " from VW_RPT_DEAL_FACT deal inner join VW_RPT_DIM_CUST cust on \n",
    " deal.[customer name ID] = cust.cust_nm_sid and\n",
    " deal.[customer id] = cust.cust_div_nm_sid\n",
    "where 1 = 1 and cust.cust_nm = 'HPI' and deal.[rebate type] like '%MDF%'\n",
    "'''"
   ]
  },
  {
   "cell_type": "code",
   "execution_count": 13,
   "id": "ec41ff54",
   "metadata": {},
   "outputs": [],
   "source": [
    "df = maad.get_data(sql, db = 'mydeals')"
   ]
  },
  {
   "cell_type": "code",
   "execution_count": 14,
   "id": "8eef97ee",
   "metadata": {},
   "outputs": [
    {
     "data": {
      "text/plain": [
       "array(['MDF/NRE ACCRUAL', 'MDF', 'MDF SPIF/PER UNIT ACTIVITY',\n",
       "       'MDF ACCRUAL', 'MDF/NRE LUMP-SUM BUDGET'], dtype=object)"
      ]
     },
     "execution_count": 14,
     "metadata": {},
     "output_type": "execute_result"
    }
   ],
   "source": [
    "df.REBATE_TYPE.unique()"
   ]
  },
  {
   "cell_type": "code",
   "execution_count": 15,
   "id": "14787e05",
   "metadata": {},
   "outputs": [
    {
     "data": {
      "text/plain": [
       "(196, 27)"
      ]
     },
     "execution_count": 15,
     "metadata": {},
     "output_type": "execute_result"
    }
   ],
   "source": [
    "df.remove_empty().shape"
   ]
  },
  {
   "cell_type": "code",
   "execution_count": 16,
   "id": "2b513451",
   "metadata": {},
   "outputs": [],
   "source": [
    "dx = list(df.DEAL_ID.unique())"
   ]
  },
  {
   "cell_type": "code",
   "execution_count": 17,
   "id": "4ac8035b",
   "metadata": {},
   "outputs": [],
   "source": [
    "df = df.drop_duplicates(subset = 'DEAL_ID')"
   ]
  },
  {
   "cell_type": "code",
   "execution_count": 18,
   "id": "cd646cb5",
   "metadata": {},
   "outputs": [],
   "source": [
    "merge = pd.merge(df, r, on = 'DEAL_ID')"
   ]
  },
  {
   "cell_type": "code",
   "execution_count": 19,
   "id": "f838deff",
   "metadata": {},
   "outputs": [],
   "source": [
    "dy = [657997, 657998, 657999]"
   ]
  },
  {
   "cell_type": "code",
   "execution_count": null,
   "id": "6d3ded05",
   "metadata": {},
   "outputs": [],
   "source": []
  },
  {
   "cell_type": "code",
   "execution_count": 20,
   "id": "075988f1",
   "metadata": {},
   "outputs": [],
   "source": [
    "merge['NET_CLAIMED_AMT'] = (merge.REBATE_PAYMENT_609_CREDIT_AMT - merge.REBATE_PAYMENT_609_DEBIT_AMT)/1E6"
   ]
  },
  {
   "cell_type": "code",
   "execution_count": 21,
   "id": "b0290b00",
   "metadata": {},
   "outputs": [],
   "source": [
    "mpivot = merge.query('DEAL_ID == @dx').pivot_table(index = ['YEAR'], columns = ['REBATE_TYPE', 'RELEVANT_YEAR', 'DEAL_ID'], aggfunc = 'sum',values = \"AMOUNT\", margins = True)/1E6"
   ]
  },
  {
   "cell_type": "code",
   "execution_count": 22,
   "id": "452d5b10",
   "metadata": {},
   "outputs": [],
   "source": [
    "mpivot.to_clipboard()"
   ]
  },
  {
   "cell_type": "code",
   "execution_count": 23,
   "id": "1f1bee15",
   "metadata": {},
   "outputs": [
    {
     "data": {
      "text/html": [
       "<div>\n",
       "<style scoped>\n",
       "    .dataframe tbody tr th:only-of-type {\n",
       "        vertical-align: middle;\n",
       "    }\n",
       "\n",
       "    .dataframe tbody tr th {\n",
       "        vertical-align: top;\n",
       "    }\n",
       "\n",
       "    .dataframe thead th {\n",
       "        text-align: right;\n",
       "    }\n",
       "</style>\n",
       "<table border=\"1\" class=\"dataframe\">\n",
       "  <thead>\n",
       "    <tr style=\"text-align: right;\">\n",
       "      <th></th>\n",
       "      <th>DEAL_ID</th>\n",
       "      <th>TRACKER_NUMBER</th>\n",
       "      <th>CUSTOMER</th>\n",
       "      <th>DEAL_START_DATE</th>\n",
       "      <th>DEAL_END_DATE</th>\n",
       "      <th>DEAL_STAGE</th>\n",
       "      <th>DEAL_TYPE</th>\n",
       "      <th>GEO</th>\n",
       "      <th>MARKET_SEGMENT</th>\n",
       "      <th>END_CUSTOMER</th>\n",
       "      <th>...</th>\n",
       "      <th>DIVISION_FIRST_APPROVED_STAGE_DATE</th>\n",
       "      <th>ADDITIVESTANDALONE</th>\n",
       "      <th>EXPIRE_DEAL_FLAG</th>\n",
       "      <th>OVERARCHING_MAXIMUM_VOLUME</th>\n",
       "      <th>DEAL_TYPE</th>\n",
       "      <th>REBATE_TYPE</th>\n",
       "      <th>REBATE_PAYMENT_609_CREDIT_AMT</th>\n",
       "      <th>REBATE_PAYMENT_609_DEBIT_AMT</th>\n",
       "      <th>REBATE_PAYMENT_609_CREDIT_VOLUME</th>\n",
       "      <th>REBATE_PAYMENT_609_DEBIT_VOLUME</th>\n",
       "    </tr>\n",
       "  </thead>\n",
       "  <tbody>\n",
       "    <tr>\n",
       "      <th>15</th>\n",
       "      <td>544415</td>\n",
       "      <td>PHP-544415-M-D</td>\n",
       "      <td>HPI</td>\n",
       "      <td>2019-01-01</td>\n",
       "      <td>2019-12-31</td>\n",
       "      <td>Active</td>\n",
       "      <td>PROGRAM</td>\n",
       "      <td>WW</td>\n",
       "      <td>Consumer Retail Pull, Corp</td>\n",
       "      <td>NaN</td>\n",
       "      <td>...</td>\n",
       "      <td>2019-04-22</td>\n",
       "      <td>Additive</td>\n",
       "      <td>Yes</td>\n",
       "      <td>NaN</td>\n",
       "      <td>PROGRAM</td>\n",
       "      <td>MDF</td>\n",
       "      <td>1.186162e+08</td>\n",
       "      <td>162060.0</td>\n",
       "      <td>60.0</td>\n",
       "      <td>2.0</td>\n",
       "    </tr>\n",
       "  </tbody>\n",
       "</table>\n",
       "<p>1 rows × 29 columns</p>\n",
       "</div>"
      ],
      "text/plain": [
       "    DEAL_ID  TRACKER_NUMBER CUSTOMER DEAL_START_DATE DEAL_END_DATE DEAL_STAGE  \\\n",
       "15   544415  PHP-544415-M-D      HPI      2019-01-01    2019-12-31     Active   \n",
       "\n",
       "    DEAL_TYPE GEO              MARKET_SEGMENT END_CUSTOMER  ...  \\\n",
       "15    PROGRAM  WW  Consumer Retail Pull, Corp          NaN  ...   \n",
       "\n",
       "   DIVISION_FIRST_APPROVED_STAGE_DATE  ADDITIVESTANDALONE  EXPIRE_DEAL_FLAG  \\\n",
       "15                         2019-04-22            Additive               Yes   \n",
       "\n",
       "   OVERARCHING_MAXIMUM_VOLUME  DEAL_TYPE REBATE_TYPE  \\\n",
       "15                        NaN    PROGRAM         MDF   \n",
       "\n",
       "   REBATE_PAYMENT_609_CREDIT_AMT REBATE_PAYMENT_609_DEBIT_AMT  \\\n",
       "15                  1.186162e+08                     162060.0   \n",
       "\n",
       "   REBATE_PAYMENT_609_CREDIT_VOLUME REBATE_PAYMENT_609_DEBIT_VOLUME  \n",
       "15                             60.0                             2.0  \n",
       "\n",
       "[1 rows x 29 columns]"
      ]
     },
     "execution_count": 23,
     "metadata": {},
     "output_type": "execute_result"
    }
   ],
   "source": [
    "df.query('DEAL_ID == 544415')"
   ]
  },
  {
   "cell_type": "code",
   "execution_count": 24,
   "id": "3e7a89b9",
   "metadata": {},
   "outputs": [],
   "source": [
    "r.query('DEAL_ID == 544415').to_clipboard()"
   ]
  },
  {
   "cell_type": "code",
   "execution_count": 25,
   "id": "c2624ec6",
   "metadata": {},
   "outputs": [
    {
     "data": {
      "text/html": [
       "<div>\n",
       "<style scoped>\n",
       "    .dataframe tbody tr th:only-of-type {\n",
       "        vertical-align: middle;\n",
       "    }\n",
       "\n",
       "    .dataframe tbody tr th {\n",
       "        vertical-align: top;\n",
       "    }\n",
       "\n",
       "    .dataframe thead th {\n",
       "        text-align: right;\n",
       "    }\n",
       "</style>\n",
       "<table border=\"1\" class=\"dataframe\">\n",
       "  <thead>\n",
       "    <tr style=\"text-align: right;\">\n",
       "      <th></th>\n",
       "      <th>DEAL_QTY</th>\n",
       "      <th>RATE</th>\n",
       "      <th>ORIG_SLD_CUST_ID</th>\n",
       "      <th>UNIT_QTY</th>\n",
       "      <th>UNIT_RATE</th>\n",
       "      <th>TRACKER_BASE</th>\n",
       "      <th>FNL_APRV_DTM</th>\n",
       "      <th>ISTRACKER</th>\n",
       "      <th>CUSTOMER</th>\n",
       "      <th>DEAL_ID</th>\n",
       "      <th>...</th>\n",
       "      <th>MM</th>\n",
       "      <th>L2_TXT</th>\n",
       "      <th>CSAR_ID</th>\n",
       "      <th>MARKETING_NAME</th>\n",
       "      <th>CUST_PO_DT</th>\n",
       "      <th>UPLD_NM</th>\n",
       "      <th>SLS_BLLG_DOC_LINE_NBR</th>\n",
       "      <th>QTY</th>\n",
       "      <th>RELEVANT_YEAR</th>\n",
       "      <th>YEAR</th>\n",
       "    </tr>\n",
       "  </thead>\n",
       "  <tbody>\n",
       "    <tr>\n",
       "      <th>139758</th>\n",
       "      <td>NaN</td>\n",
       "      <td>2028379.19</td>\n",
       "      <td>6004760766</td>\n",
       "      <td>1.0</td>\n",
       "      <td>2028379.19</td>\n",
       "      <td>PHP-600955-M</td>\n",
       "      <td>2020-04-15 16:58:08.217</td>\n",
       "      <td>True</td>\n",
       "      <td>HP International Pte. Ltd.</td>\n",
       "      <td>600955.0</td>\n",
       "      <td>...</td>\n",
       "      <td>892990</td>\n",
       "      <td>NaN</td>\n",
       "      <td>817336</td>\n",
       "      <td>NaN</td>\n",
       "      <td>NaT</td>\n",
       "      <td>NonInvBulkUpload</td>\n",
       "      <td>NaN</td>\n",
       "      <td>1</td>\n",
       "      <td>2020</td>\n",
       "      <td>2020</td>\n",
       "    </tr>\n",
       "    <tr>\n",
       "      <th>139763</th>\n",
       "      <td>NaN</td>\n",
       "      <td>1484466.40</td>\n",
       "      <td>6004760766</td>\n",
       "      <td>1.0</td>\n",
       "      <td>1484466.40</td>\n",
       "      <td>PHP-600955-M</td>\n",
       "      <td>2020-04-15 16:58:08.217</td>\n",
       "      <td>True</td>\n",
       "      <td>HP International Pte. Ltd.</td>\n",
       "      <td>600955.0</td>\n",
       "      <td>...</td>\n",
       "      <td>892990</td>\n",
       "      <td>NaN</td>\n",
       "      <td>817341</td>\n",
       "      <td>NaN</td>\n",
       "      <td>NaT</td>\n",
       "      <td>NonInvBulkUpload</td>\n",
       "      <td>NaN</td>\n",
       "      <td>1</td>\n",
       "      <td>2020</td>\n",
       "      <td>2020</td>\n",
       "    </tr>\n",
       "    <tr>\n",
       "      <th>155488</th>\n",
       "      <td>NaN</td>\n",
       "      <td>4348780.50</td>\n",
       "      <td>6004760766</td>\n",
       "      <td>1.0</td>\n",
       "      <td>4348780.50</td>\n",
       "      <td>PHP-600955-M</td>\n",
       "      <td>2020-07-23 13:09:42.420</td>\n",
       "      <td>True</td>\n",
       "      <td>HP International Pte. Ltd.</td>\n",
       "      <td>600955.0</td>\n",
       "      <td>...</td>\n",
       "      <td>892990</td>\n",
       "      <td>NaN</td>\n",
       "      <td>836646</td>\n",
       "      <td>NaN</td>\n",
       "      <td>NaT</td>\n",
       "      <td>NonInvBulkUpload</td>\n",
       "      <td>NaN</td>\n",
       "      <td>1</td>\n",
       "      <td>2020</td>\n",
       "      <td>2020</td>\n",
       "    </tr>\n",
       "    <tr>\n",
       "      <th>155489</th>\n",
       "      <td>NaN</td>\n",
       "      <td>1644106.23</td>\n",
       "      <td>6004760766</td>\n",
       "      <td>1.0</td>\n",
       "      <td>1644106.23</td>\n",
       "      <td>PHP-600955-M</td>\n",
       "      <td>2020-07-23 13:09:42.420</td>\n",
       "      <td>True</td>\n",
       "      <td>HP International Pte. Ltd.</td>\n",
       "      <td>600955.0</td>\n",
       "      <td>...</td>\n",
       "      <td>892990</td>\n",
       "      <td>NaN</td>\n",
       "      <td>836647</td>\n",
       "      <td>NaN</td>\n",
       "      <td>NaT</td>\n",
       "      <td>NonInvBulkUpload</td>\n",
       "      <td>NaN</td>\n",
       "      <td>1</td>\n",
       "      <td>2020</td>\n",
       "      <td>2020</td>\n",
       "    </tr>\n",
       "    <tr>\n",
       "      <th>155495</th>\n",
       "      <td>NaN</td>\n",
       "      <td>3751826.00</td>\n",
       "      <td>6004760766</td>\n",
       "      <td>1.0</td>\n",
       "      <td>3751826.00</td>\n",
       "      <td>PHP-600955-M</td>\n",
       "      <td>2020-07-23 13:09:42.420</td>\n",
       "      <td>True</td>\n",
       "      <td>HP International Pte. Ltd.</td>\n",
       "      <td>600955.0</td>\n",
       "      <td>...</td>\n",
       "      <td>892990</td>\n",
       "      <td>NaN</td>\n",
       "      <td>836653</td>\n",
       "      <td>NaN</td>\n",
       "      <td>NaT</td>\n",
       "      <td>NonInvBulkUpload</td>\n",
       "      <td>NaN</td>\n",
       "      <td>1</td>\n",
       "      <td>2020</td>\n",
       "      <td>2020</td>\n",
       "    </tr>\n",
       "    <tr>\n",
       "      <th>...</th>\n",
       "      <td>...</td>\n",
       "      <td>...</td>\n",
       "      <td>...</td>\n",
       "      <td>...</td>\n",
       "      <td>...</td>\n",
       "      <td>...</td>\n",
       "      <td>...</td>\n",
       "      <td>...</td>\n",
       "      <td>...</td>\n",
       "      <td>...</td>\n",
       "      <td>...</td>\n",
       "      <td>...</td>\n",
       "      <td>...</td>\n",
       "      <td>...</td>\n",
       "      <td>...</td>\n",
       "      <td>...</td>\n",
       "      <td>...</td>\n",
       "      <td>...</td>\n",
       "      <td>...</td>\n",
       "      <td>...</td>\n",
       "      <td>...</td>\n",
       "    </tr>\n",
       "    <tr>\n",
       "      <th>299874</th>\n",
       "      <td>NaN</td>\n",
       "      <td>50000.00</td>\n",
       "      <td>6100212581</td>\n",
       "      <td>1.0</td>\n",
       "      <td>50000.00</td>\n",
       "      <td>PHP-600955-M</td>\n",
       "      <td>2022-07-14 14:19:16.250</td>\n",
       "      <td>True</td>\n",
       "      <td>HP Inc.</td>\n",
       "      <td>600955.0</td>\n",
       "      <td>...</td>\n",
       "      <td>892990</td>\n",
       "      <td>NaN</td>\n",
       "      <td>994369</td>\n",
       "      <td>NaN</td>\n",
       "      <td>NaT</td>\n",
       "      <td>NonInvBulkUpload</td>\n",
       "      <td>NaN</td>\n",
       "      <td>1</td>\n",
       "      <td>2021</td>\n",
       "      <td>2022</td>\n",
       "    </tr>\n",
       "    <tr>\n",
       "      <th>299875</th>\n",
       "      <td>NaN</td>\n",
       "      <td>826085.00</td>\n",
       "      <td>6100212581</td>\n",
       "      <td>1.0</td>\n",
       "      <td>826085.00</td>\n",
       "      <td>PHP-600955-M</td>\n",
       "      <td>2022-07-14 14:19:16.250</td>\n",
       "      <td>True</td>\n",
       "      <td>HP Inc.</td>\n",
       "      <td>600955.0</td>\n",
       "      <td>...</td>\n",
       "      <td>892990</td>\n",
       "      <td>NaN</td>\n",
       "      <td>994370</td>\n",
       "      <td>NaN</td>\n",
       "      <td>NaT</td>\n",
       "      <td>NonInvBulkUpload</td>\n",
       "      <td>NaN</td>\n",
       "      <td>1</td>\n",
       "      <td>2020</td>\n",
       "      <td>2022</td>\n",
       "    </tr>\n",
       "    <tr>\n",
       "      <th>299876</th>\n",
       "      <td>NaN</td>\n",
       "      <td>420989.00</td>\n",
       "      <td>6100212581</td>\n",
       "      <td>1.0</td>\n",
       "      <td>420989.00</td>\n",
       "      <td>PHP-600955-M</td>\n",
       "      <td>2022-07-14 14:19:16.250</td>\n",
       "      <td>True</td>\n",
       "      <td>HP Inc.</td>\n",
       "      <td>600955.0</td>\n",
       "      <td>...</td>\n",
       "      <td>892990</td>\n",
       "      <td>NaN</td>\n",
       "      <td>994371</td>\n",
       "      <td>NaN</td>\n",
       "      <td>NaT</td>\n",
       "      <td>NonInvBulkUpload</td>\n",
       "      <td>NaN</td>\n",
       "      <td>1</td>\n",
       "      <td>2020</td>\n",
       "      <td>2022</td>\n",
       "    </tr>\n",
       "    <tr>\n",
       "      <th>2536</th>\n",
       "      <td>1.0</td>\n",
       "      <td>105000.00</td>\n",
       "      <td>6100212581</td>\n",
       "      <td>1.0</td>\n",
       "      <td>105000.00</td>\n",
       "      <td>PHP-600955-M</td>\n",
       "      <td>2022-10-25 15:39:41.953</td>\n",
       "      <td>True</td>\n",
       "      <td>NaN</td>\n",
       "      <td>600955.0</td>\n",
       "      <td>...</td>\n",
       "      <td>892990</td>\n",
       "      <td>NaN</td>\n",
       "      <td>1027540</td>\n",
       "      <td>NaN</td>\n",
       "      <td>NaT</td>\n",
       "      <td>NonInvBulkUpload</td>\n",
       "      <td>NaN</td>\n",
       "      <td>1</td>\n",
       "      <td>2020</td>\n",
       "      <td>2022</td>\n",
       "    </tr>\n",
       "    <tr>\n",
       "      <th>2541</th>\n",
       "      <td>1.0</td>\n",
       "      <td>366406.00</td>\n",
       "      <td>6100212581</td>\n",
       "      <td>1.0</td>\n",
       "      <td>366406.00</td>\n",
       "      <td>PHP-600955-M</td>\n",
       "      <td>2022-10-25 15:39:41.953</td>\n",
       "      <td>True</td>\n",
       "      <td>NaN</td>\n",
       "      <td>600955.0</td>\n",
       "      <td>...</td>\n",
       "      <td>892990</td>\n",
       "      <td>NaN</td>\n",
       "      <td>1027545</td>\n",
       "      <td>NaN</td>\n",
       "      <td>NaT</td>\n",
       "      <td>NonInvBulkUpload</td>\n",
       "      <td>NaN</td>\n",
       "      <td>1</td>\n",
       "      <td>2021</td>\n",
       "      <td>2022</td>\n",
       "    </tr>\n",
       "  </tbody>\n",
       "</table>\n",
       "<p>66 rows × 62 columns</p>\n",
       "</div>"
      ],
      "text/plain": [
       "        DEAL_QTY        RATE ORIG_SLD_CUST_ID  UNIT_QTY   UNIT_RATE  \\\n",
       "139758       NaN  2028379.19       6004760766       1.0  2028379.19   \n",
       "139763       NaN  1484466.40       6004760766       1.0  1484466.40   \n",
       "155488       NaN  4348780.50       6004760766       1.0  4348780.50   \n",
       "155489       NaN  1644106.23       6004760766       1.0  1644106.23   \n",
       "155495       NaN  3751826.00       6004760766       1.0  3751826.00   \n",
       "...          ...         ...              ...       ...         ...   \n",
       "299874       NaN    50000.00       6100212581       1.0    50000.00   \n",
       "299875       NaN   826085.00       6100212581       1.0   826085.00   \n",
       "299876       NaN   420989.00       6100212581       1.0   420989.00   \n",
       "2536         1.0   105000.00       6100212581       1.0   105000.00   \n",
       "2541         1.0   366406.00       6100212581       1.0   366406.00   \n",
       "\n",
       "        TRACKER_BASE            FNL_APRV_DTM  ISTRACKER  \\\n",
       "139758  PHP-600955-M 2020-04-15 16:58:08.217       True   \n",
       "139763  PHP-600955-M 2020-04-15 16:58:08.217       True   \n",
       "155488  PHP-600955-M 2020-07-23 13:09:42.420       True   \n",
       "155489  PHP-600955-M 2020-07-23 13:09:42.420       True   \n",
       "155495  PHP-600955-M 2020-07-23 13:09:42.420       True   \n",
       "...              ...                     ...        ...   \n",
       "299874  PHP-600955-M 2022-07-14 14:19:16.250       True   \n",
       "299875  PHP-600955-M 2022-07-14 14:19:16.250       True   \n",
       "299876  PHP-600955-M 2022-07-14 14:19:16.250       True   \n",
       "2536    PHP-600955-M 2022-10-25 15:39:41.953       True   \n",
       "2541    PHP-600955-M 2022-10-25 15:39:41.953       True   \n",
       "\n",
       "                          CUSTOMER   DEAL_ID  ...      MM L2_TXT  CSAR_ID  \\\n",
       "139758  HP International Pte. Ltd.  600955.0  ...  892990    NaN   817336   \n",
       "139763  HP International Pte. Ltd.  600955.0  ...  892990    NaN   817341   \n",
       "155488  HP International Pte. Ltd.  600955.0  ...  892990    NaN   836646   \n",
       "155489  HP International Pte. Ltd.  600955.0  ...  892990    NaN   836647   \n",
       "155495  HP International Pte. Ltd.  600955.0  ...  892990    NaN   836653   \n",
       "...                            ...       ...  ...     ...    ...      ...   \n",
       "299874                     HP Inc.  600955.0  ...  892990    NaN   994369   \n",
       "299875                     HP Inc.  600955.0  ...  892990    NaN   994370   \n",
       "299876                     HP Inc.  600955.0  ...  892990    NaN   994371   \n",
       "2536                           NaN  600955.0  ...  892990    NaN  1027540   \n",
       "2541                           NaN  600955.0  ...  892990    NaN  1027545   \n",
       "\n",
       "       MARKETING_NAME CUST_PO_DT           UPLD_NM SLS_BLLG_DOC_LINE_NBR QTY  \\\n",
       "139758            NaN        NaT  NonInvBulkUpload                   NaN   1   \n",
       "139763            NaN        NaT  NonInvBulkUpload                   NaN   1   \n",
       "155488            NaN        NaT  NonInvBulkUpload                   NaN   1   \n",
       "155489            NaN        NaT  NonInvBulkUpload                   NaN   1   \n",
       "155495            NaN        NaT  NonInvBulkUpload                   NaN   1   \n",
       "...               ...        ...               ...                   ...  ..   \n",
       "299874            NaN        NaT  NonInvBulkUpload                   NaN   1   \n",
       "299875            NaN        NaT  NonInvBulkUpload                   NaN   1   \n",
       "299876            NaN        NaT  NonInvBulkUpload                   NaN   1   \n",
       "2536              NaN        NaT  NonInvBulkUpload                   NaN   1   \n",
       "2541              NaN        NaT  NonInvBulkUpload                   NaN   1   \n",
       "\n",
       "       RELEVANT_YEAR  YEAR  \n",
       "139758          2020  2020  \n",
       "139763          2020  2020  \n",
       "155488          2020  2020  \n",
       "155489          2020  2020  \n",
       "155495          2020  2020  \n",
       "...              ...   ...  \n",
       "299874          2021  2022  \n",
       "299875          2020  2022  \n",
       "299876          2020  2022  \n",
       "2536            2020  2022  \n",
       "2541            2021  2022  \n",
       "\n",
       "[66 rows x 62 columns]"
      ]
     },
     "execution_count": 25,
     "metadata": {},
     "output_type": "execute_result"
    }
   ],
   "source": [
    "r.query('DEAL_ID == @dx').query('DEAL_ID == 600955')"
   ]
  },
  {
   "cell_type": "code",
   "execution_count": null,
   "id": "b4a17b72",
   "metadata": {},
   "outputs": [],
   "source": []
  },
  {
   "cell_type": "code",
   "execution_count": null,
   "id": "a4f92ff9",
   "metadata": {},
   "outputs": [],
   "source": []
  },
  {
   "cell_type": "code",
   "execution_count": 26,
   "id": "4b422abb",
   "metadata": {},
   "outputs": [],
   "source": [
    "sql = '''\n",
    "select DISTINCT  *\n",
    "\n",
    " \n",
    " from VW_RPT_DEAL_FACT deal inner join VW_RPT_DIM_CUST cust on \n",
    " deal.[customer name ID] = cust.cust_nm_sid and\n",
    " deal.[customer id] = cust.cust_div_nm_sid\n",
    "where 1 = 1  and deal.[deal id] = 600955\n",
    "'''"
   ]
  },
  {
   "cell_type": "code",
   "execution_count": 27,
   "id": "1cd04343",
   "metadata": {},
   "outputs": [],
   "source": [
    "df = maad.get_data(sql, db = 'mydeals', clean = False)"
   ]
  },
  {
   "cell_type": "code",
   "execution_count": 28,
   "id": "7f0399f7",
   "metadata": {},
   "outputs": [
    {
     "data": {
      "text/plain": [
       "(32, 149)"
      ]
     },
     "execution_count": 28,
     "metadata": {},
     "output_type": "execute_result"
    }
   ],
   "source": [
    "df.shape"
   ]
  },
  {
   "cell_type": "code",
   "execution_count": 29,
   "id": "55807de1",
   "metadata": {},
   "outputs": [
    {
     "data": {
      "text/plain": [
       "Index(['Deal ID', 'OBJ_TYPE_SID', 'Deal Type', 'Customer ID',\n",
       "       'Customer Name ID', 'Ceiling Volume', 'NOTES', 'Consumption Reason',\n",
       "       'Deal Description', 'Deal End Date',\n",
       "       ...\n",
       "       'CUST_NM_SID', 'CUST_SRCH_NM', 'GDM_CUST_DIV_NM', 'GDM_SLD_TO_CUST_NM',\n",
       "       'HOST_GEO', 'INDUS_KEY_CD', 'PRC_GRP_CD', 'SLS_ORG_CD', 'SOLD_TO_ID',\n",
       "       'SOLD_TO_ID_SID'],\n",
       "      dtype='object', length=149)"
      ]
     },
     "execution_count": 29,
     "metadata": {},
     "output_type": "execute_result"
    }
   ],
   "source": [
    "df.columns"
   ]
  },
  {
   "cell_type": "code",
   "execution_count": 30,
   "id": "7a506d47",
   "metadata": {},
   "outputs": [
    {
     "data": {
      "text/plain": [
       "(32, 149)"
      ]
     },
     "execution_count": 30,
     "metadata": {},
     "output_type": "execute_result"
    }
   ],
   "source": [
    "df.drop_duplicates().shape"
   ]
  },
  {
   "cell_type": "code",
   "execution_count": 31,
   "id": "574f2306",
   "metadata": {},
   "outputs": [
    {
     "ename": "AttributeError",
     "evalue": "'DataFrame' object has no attribute 'DEAL_TYPE'",
     "output_type": "error",
     "traceback": [
      "\u001b[1;31m---------------------------------------------------------------------------\u001b[0m",
      "\u001b[1;31mAttributeError\u001b[0m                            Traceback (most recent call last)",
      "Input \u001b[1;32mIn [31]\u001b[0m, in \u001b[0;36m<cell line: 1>\u001b[1;34m()\u001b[0m\n\u001b[1;32m----> 1\u001b[0m \u001b[43mdf\u001b[49m\u001b[38;5;241;43m.\u001b[39;49m\u001b[43mDEAL_TYPE\u001b[49m\n",
      "File \u001b[1;32m~\\Anaconda3\\lib\\site-packages\\pandas\\core\\generic.py:5575\u001b[0m, in \u001b[0;36mNDFrame.__getattr__\u001b[1;34m(self, name)\u001b[0m\n\u001b[0;32m   5568\u001b[0m \u001b[38;5;28;01mif\u001b[39;00m (\n\u001b[0;32m   5569\u001b[0m     name \u001b[38;5;129;01mnot\u001b[39;00m \u001b[38;5;129;01min\u001b[39;00m \u001b[38;5;28mself\u001b[39m\u001b[38;5;241m.\u001b[39m_internal_names_set\n\u001b[0;32m   5570\u001b[0m     \u001b[38;5;129;01mand\u001b[39;00m name \u001b[38;5;129;01mnot\u001b[39;00m \u001b[38;5;129;01min\u001b[39;00m \u001b[38;5;28mself\u001b[39m\u001b[38;5;241m.\u001b[39m_metadata\n\u001b[0;32m   5571\u001b[0m     \u001b[38;5;129;01mand\u001b[39;00m name \u001b[38;5;129;01mnot\u001b[39;00m \u001b[38;5;129;01min\u001b[39;00m \u001b[38;5;28mself\u001b[39m\u001b[38;5;241m.\u001b[39m_accessors\n\u001b[0;32m   5572\u001b[0m     \u001b[38;5;129;01mand\u001b[39;00m \u001b[38;5;28mself\u001b[39m\u001b[38;5;241m.\u001b[39m_info_axis\u001b[38;5;241m.\u001b[39m_can_hold_identifiers_and_holds_name(name)\n\u001b[0;32m   5573\u001b[0m ):\n\u001b[0;32m   5574\u001b[0m     \u001b[38;5;28;01mreturn\u001b[39;00m \u001b[38;5;28mself\u001b[39m[name]\n\u001b[1;32m-> 5575\u001b[0m \u001b[38;5;28;01mreturn\u001b[39;00m \u001b[38;5;28;43mobject\u001b[39;49m\u001b[38;5;241;43m.\u001b[39;49m\u001b[38;5;21;43m__getattribute__\u001b[39;49m\u001b[43m(\u001b[49m\u001b[38;5;28;43mself\u001b[39;49m\u001b[43m,\u001b[49m\u001b[43m \u001b[49m\u001b[43mname\u001b[49m\u001b[43m)\u001b[49m\n",
      "\u001b[1;31mAttributeError\u001b[0m: 'DataFrame' object has no attribute 'DEAL_TYPE'"
     ]
    }
   ],
   "source": [
    "df.DEAL_TYPE"
   ]
  },
  {
   "cell_type": "code",
   "execution_count": 34,
   "id": "586a2cb8",
   "metadata": {},
   "outputs": [],
   "source": [
    "df.to_clipboard()"
   ]
  },
  {
   "cell_type": "code",
   "execution_count": 33,
   "id": "857ca797",
   "metadata": {},
   "outputs": [
    {
     "ename": "TypeError",
     "evalue": "to_excel() missing 1 required positional argument: 'excel_writer'",
     "output_type": "error",
     "traceback": [
      "\u001b[1;31m---------------------------------------------------------------------------\u001b[0m",
      "\u001b[1;31mTypeError\u001b[0m                                 Traceback (most recent call last)",
      "Input \u001b[1;32mIn [33]\u001b[0m, in \u001b[0;36m<cell line: 1>\u001b[1;34m()\u001b[0m\n\u001b[1;32m----> 1\u001b[0m \u001b[43mdf\u001b[49m\u001b[38;5;241;43m.\u001b[39;49m\u001b[43mto_excel\u001b[49m\u001b[43m(\u001b[49m\u001b[43m)\u001b[49m\n",
      "\u001b[1;31mTypeError\u001b[0m: to_excel() missing 1 required positional argument: 'excel_writer'"
     ]
    }
   ],
   "source": [
    "df.to_excel()"
   ]
  },
  {
   "cell_type": "code",
   "execution_count": null,
   "id": "a451929e",
   "metadata": {},
   "outputs": [],
   "source": []
  }
 ],
 "metadata": {
  "kernelspec": {
   "display_name": "Python 3 (ipykernel)",
   "language": "python",
   "name": "python3"
  },
  "language_info": {
   "codemirror_mode": {
    "name": "ipython",
    "version": 3
   },
   "file_extension": ".py",
   "mimetype": "text/x-python",
   "name": "python",
   "nbconvert_exporter": "python",
   "pygments_lexer": "ipython3",
   "version": "3.9.12"
  }
 },
 "nbformat": 4,
 "nbformat_minor": 5
}
